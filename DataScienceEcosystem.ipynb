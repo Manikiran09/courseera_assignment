{
 "cells": [
  {
   "cell_type": "markdown",
   "id": "3c802ad7",
   "metadata": {},
   "source": [
    "# Data Science Tools and Ecosystem\n"
   ]
  },
  {
   "cell_type": "markdown",
   "id": "1ede81b1",
   "metadata": {},
   "source": []
  },
  {
   "cell_type": "markdown",
   "id": "70930fa6",
   "metadata": {},
   "source": [
    "In this notebook, we will summarize some of the key tools and concepts used in Data Science.\n"
   ]
  },
  {
   "cell_type": "markdown",
   "id": "81c0f67b",
   "metadata": {},
   "source": []
  },
  {
   "cell_type": "markdown",
   "id": "6649e0e6",
   "metadata": {},
   "source": [
    "## Some of the popular languages that Data Scientists use are:\n",
    "\n",
    "1. Python\n",
    "2. R\n",
    "3. SQL\n",
    "4. Java\n",
    "5. Julia\n"
   ]
  },
  {
   "cell_type": "markdown",
   "id": "b863df09",
   "metadata": {},
   "source": []
  },
  {
   "cell_type": "markdown",
   "id": "d62383a8",
   "metadata": {},
   "source": [
    "## Some of the commonly used libraries used by Data Scientists include:\n",
    "\n",
    "1. Pandas\n",
    "2. NumPy\n",
    "3. Matplotlib\n",
    "4. Scikit-learn\n",
    "5. TensorFlow"
   ]
  },
  {
   "cell_type": "markdown",
   "id": "5ba6f5ae",
   "metadata": {},
   "source": []
  },
  {
   "cell_type": "markdown",
   "id": "3cd26e1e",
   "metadata": {},
   "source": [
    "## Data Science Tools\n",
    "\n",
    "| Tool             | Description                        |\n",
    "|------------------|------------------------------------|\n",
    "| Jupyter Notebook | Interactive coding environment     |\n",
    "| RStudio          | IDE for R                          |\n",
    "| Apache Zeppelin  | Web-based notebook for big data    |\n"
   ]
  },
  {
   "cell_type": "markdown",
   "id": "250058f6",
   "metadata": {},
   "source": []
  },
  {
   "cell_type": "markdown",
   "id": "a5d372fe",
   "metadata": {},
   "source": [
    "### Below are a few examples of evaluating arithmetic expressions in Python.\n"
   ]
  },
  {
   "cell_type": "markdown",
   "id": "c579bfe3",
   "metadata": {},
   "source": []
  },
  {
   "cell_type": "code",
   "execution_count": 10,
   "id": "983cc62d",
   "metadata": {},
   "outputs": [
    {
     "data": {
      "text/plain": [
       "17"
      ]
     },
     "execution_count": 10,
     "metadata": {},
     "output_type": "execute_result"
    }
   ],
   "source": [
    "# This is a simple arithmetic expression to multiply then add integers\n",
    "(3*4)+5"
   ]
  },
  {
   "cell_type": "code",
   "execution_count": 11,
   "id": "20346058",
   "metadata": {},
   "outputs": [
    {
     "data": {
      "text/plain": [
       "3.3333333333333335"
      ]
     },
     "execution_count": 11,
     "metadata": {},
     "output_type": "execute_result"
    }
   ],
   "source": [
    "# This will convert 200 minutes to hours by dividing by 60\n",
    "200 / 60"
   ]
  },
  {
   "cell_type": "markdown",
   "id": "be47d5e8",
   "metadata": {},
   "source": [
    "## Objectives:\n",
    "- List popular languages for Data Science\n",
    "- List commonly used libraries in Data Science\n",
    "- Create tables using markdown\n",
    "- Perform basic arithmetic operations using code\n",
    "- Share the notebook via GitHub"
   ]
  },
  {
   "cell_type": "markdown",
   "id": "99547f5a",
   "metadata": {},
   "source": []
  },
  {
   "attachments": {},
   "cell_type": "markdown",
   "id": "8694d7bf",
   "metadata": {},
   "source": [
    "## Author\n",
    "Manikaran"
   ]
  },
  {
   "cell_type": "markdown",
   "id": "0f18a90a",
   "metadata": {},
   "source": []
  }
 ],
 "metadata": {
  "kernelspec": {
   "display_name": "Python 3 (ipykernel)",
   "language": "python",
   "name": "python3"
  },
  "language_info": {
   "codemirror_mode": {
    "name": "ipython",
    "version": 3
   },
   "file_extension": ".py",
   "mimetype": "text/x-python",
   "name": "python",
   "nbconvert_exporter": "python",
   "pygments_lexer": "ipython3",
   "version": "3.7.2"
  }
 },
 "nbformat": 4,
 "nbformat_minor": 5
}
